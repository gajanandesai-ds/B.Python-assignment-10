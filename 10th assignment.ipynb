{
 "cells": [
  {
   "cell_type": "raw",
   "id": "66864665",
   "metadata": {},
   "source": [
    "1. How do you distinguish between shutil.copy() and shutil.copytree()?"
   ]
  },
  {
   "cell_type": "raw",
   "id": "798e8052",
   "metadata": {},
   "source": [
    "ans: The shutil.copy() function will copy a single file, while shutil.copytree() will copy an entire folder, along with all its contents."
   ]
  },
  {
   "cell_type": "code",
   "execution_count": null,
   "id": "756c8641",
   "metadata": {},
   "outputs": [],
   "source": []
  },
  {
   "cell_type": "raw",
   "id": "9061f2e5",
   "metadata": {},
   "source": [
    "2. What function is used to rename files?"
   ]
  },
  {
   "cell_type": "raw",
   "id": "c6478780",
   "metadata": {},
   "source": [
    "ans: The shutil.moves() function is uded for renaming files, as well as moving them."
   ]
  },
  {
   "cell_type": "code",
   "execution_count": null,
   "id": "20505871",
   "metadata": {},
   "outputs": [],
   "source": []
  },
  {
   "cell_type": "raw",
   "id": "b22068c6",
   "metadata": {},
   "source": [
    "3. What is the difference between the delete functions in the send2trash and shutil modules?"
   ]
  },
  {
   "cell_type": "raw",
   "id": "48170b60",
   "metadata": {},
   "source": [
    "ans: The send2 trash function will move a file or folder to the recycle bin, while shutil functions will permanently delete files and folders."
   ]
  },
  {
   "cell_type": "code",
   "execution_count": null,
   "id": "6c036359",
   "metadata": {},
   "outputs": [],
   "source": []
  },
  {
   "cell_type": "raw",
   "id": "d9393f10",
   "metadata": {},
   "source": [
    "4.ZipFile objects have a close() method just like File objects’ close() method. What ZipFile method is\n",
    "equivalent to File objects’ open() method?"
   ]
  },
  {
   "cell_type": "raw",
   "id": "e8c09b4b",
   "metadata": {},
   "source": [
    "ans:The zipfile.zipFile() function is equivalent to the open() function, the first argument is the filename, and the second argument is the mode to open the ZIP file in (read. write, or append)."
   ]
  },
  {
   "cell_type": "code",
   "execution_count": null,
   "id": "16260545",
   "metadata": {},
   "outputs": [],
   "source": []
  },
  {
   "cell_type": "raw",
   "id": "29e18d88",
   "metadata": {},
   "source": [
    "5.Create a programme that searches a folder tree for files with a certain file extension (such as .pdf\n",
    "or .jpg). Copy these files from whatever location they are in to a new folder."
   ]
  },
  {
   "cell_type": "raw",
   "id": "59f85264",
   "metadata": {},
   "source": [
    "ans: import os, shutil\n",
    "\n",
    "sorce path = input(;Enter the absolute path of the source folder:')\n",
    "file Ext Type= input ('Enter the type of file to copy(such as,pdf or .jpg):').lower()\n",
    "\n",
    "destPath= input ('Enter the absolute path of the destination folder:)\n",
    "for foldername, subfolders, filename in os. walk(source path):\n",
    "for filename in filenames: \n",
    "\n",
    "if\n",
    "\n",
    "filename.lower().endswith(fileEXTType)\n",
    ":\n",
    "\n",
    "# print(foldername+'\\\\'+filename)copySourcePath=\n",
    "os.path.join(foldername,filename)\n",
    "\n",
    "# print(copySourcePath)\n",
    "shutil.copy (copySourcePath,destPath)\n",
    "else:\n",
    "continue"
   ]
  },
  {
   "cell_type": "code",
   "execution_count": null,
   "id": "333d8f69",
   "metadata": {},
   "outputs": [],
   "source": []
  },
  {
   "cell_type": "code",
   "execution_count": null,
   "id": "c7171d5f",
   "metadata": {},
   "outputs": [],
   "source": []
  },
  {
   "cell_type": "code",
   "execution_count": null,
   "id": "eeb1c6a4",
   "metadata": {},
   "outputs": [],
   "source": []
  }
 ],
 "metadata": {
  "kernelspec": {
   "display_name": "Python 3",
   "language": "python",
   "name": "python3"
  },
  "language_info": {
   "codemirror_mode": {
    "name": "ipython",
    "version": 3
   },
   "file_extension": ".py",
   "mimetype": "text/x-python",
   "name": "python",
   "nbconvert_exporter": "python",
   "pygments_lexer": "ipython3",
   "version": "3.8.8"
  }
 },
 "nbformat": 4,
 "nbformat_minor": 5
}
